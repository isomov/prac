{
 "cells": [
  {
   "cell_type": "markdown",
   "metadata": {},
   "source": [
    "# Практическое задание №1:\n",
    "## Свёрточные автокодировщики для улучшения качества классификации изображений"
   ]
  },
  {
   "cell_type": "markdown",
   "metadata": {},
   "source": [
    "Подключим необходимые библиотеки, подготовим данные."
   ]
  },
  {
   "cell_type": "code",
   "execution_count": 26,
   "metadata": {},
   "outputs": [
    {
     "ename": "ImportError",
     "evalue": "No module named xgboost",
     "output_type": "error",
     "traceback": [
      "\u001b[0;31m---------------------------------------------------------------------------\u001b[0m",
      "\u001b[0;31mImportError\u001b[0m                               Traceback (most recent call last)",
      "\u001b[0;32m<ipython-input-26-43f1aa880445>\u001b[0m in \u001b[0;36m<module>\u001b[0;34m()\u001b[0m\n\u001b[1;32m     14\u001b[0m \u001b[0;32mimport\u001b[0m \u001b[0mtorch\u001b[0m\u001b[0;34m.\u001b[0m\u001b[0moptim\u001b[0m \u001b[0;32mas\u001b[0m \u001b[0moptim\u001b[0m\u001b[0;34m\u001b[0m\u001b[0m\n\u001b[1;32m     15\u001b[0m \u001b[0;34m\u001b[0m\u001b[0m\n\u001b[0;32m---> 16\u001b[0;31m \u001b[0;32mimport\u001b[0m \u001b[0mxgboost\u001b[0m \u001b[0;32mas\u001b[0m \u001b[0mxgb\u001b[0m\u001b[0;34m\u001b[0m\u001b[0m\n\u001b[0m\u001b[1;32m     17\u001b[0m \u001b[0;34m\u001b[0m\u001b[0m\n\u001b[1;32m     18\u001b[0m \u001b[0;32mfrom\u001b[0m \u001b[0msklearn\u001b[0m\u001b[0;34m.\u001b[0m\u001b[0mmetrics\u001b[0m \u001b[0;32mimport\u001b[0m \u001b[0mlog_loss\u001b[0m\u001b[0;34m\u001b[0m\u001b[0m\n",
      "\u001b[0;31mImportError\u001b[0m: No module named xgboost"
     ]
    }
   ],
   "source": [
    "%matplotlib inline\n",
    "\n",
    "import torch\n",
    "import torchvision\n",
    "import torchvision.transforms as transforms\n",
    "\n",
    "import numpy as np\n",
    "import matplotlib.pyplot as plt\n",
    "\n",
    "from torch.autograd import Variable\n",
    "\n",
    "import torch.nn as nn\n",
    "import torch.nn.functional as F\n",
    "import torch.optim as optim\n",
    "\n",
    "import xgboost as xgb\n",
    "\n",
    "from sklearn.metrics import log_loss\n",
    "\n",
    "import timeit"
   ]
  },
  {
   "cell_type": "code",
   "execution_count": 27,
   "metadata": {},
   "outputs": [
    {
     "name": "stdout",
     "output_type": "stream",
     "text": [
      "Collecting xgboost\n",
      "  Using cached xgboost-0.7.post3.tar.gz\n",
      "    Complete output from command python setup.py egg_info:\n",
      "    ++ pwd\n",
      "    + oldpath=/private/var/folders/ng/8_yrpj750v73j6c1432p12sh0000gn/T/pip-build-Th1lcX/xgboost\n",
      "    + cd ./xgboost/\n",
      "    + [[ darwin16 == \\d\\a\\r\\w\\i\\n* ]]\n",
      "    + LIB_XGBOOST=libxgboost.dylib\n",
      "    + make lib/libxgboost.dylib -j4\n",
      "    Makefile:31: MAKE [/Applications/Xcode.app/Contents/Developer/usr/bin/make] - checked OK\n",
      "    c++ -std=c++11 -Wall -Wno-unknown-pragmas -Iinclude   -I/private/var/folders/ng/8_yrpj750v73j6c1432p12sh0000gn/T/pip-build-Th1lcX/xgboost/xgboost/dmlc-core/include -Irabit/include -I/include -O3 -funroll-loops -msse2 -fPIC -fopenmp -MM -MT build/learner.o src/learner.cc >build/learner.d\n",
      "    c++ -std=c++11 -Wall -Wno-unknown-pragmas -Iinclude   -I/private/var/folders/ng/8_yrpj750v73j6c1432p12sh0000gn/T/pip-build-Th1lcX/xgboost/xgboost/dmlc-core/include -Irabit/include -I/include -O3 -funroll-loops -msse2 -fPIC -fopenmp -MM -MT build/logging.o src/logging.cc >build/logging.d\n",
      "    c++ -std=c++11 -Wall -Wno-unknown-pragmas -Iinclude   -I/private/var/folders/ng/8_yrpj750v73j6c1432p12sh0000gn/T/pip-build-Th1lcX/xgboost/xgboost/dmlc-core/include -Irabit/include -I/include -O3 -funroll-loops -msse2 -fPIC -fopenmp -MM -MT build/c_api/c_api.o src/c_api/c_api.cc >build/c_api/c_api.d\n",
      "    c++ -std=c++11 -Wall -Wno-unknown-pragmas -Iinclude   -I/private/var/folders/ng/8_yrpj750v73j6c1432p12sh0000gn/T/pip-build-Th1lcX/xgboost/xgboost/dmlc-core/include -Irabit/include -I/include -O3 -funroll-loops -msse2 -fPIC -fopenmp -MM -MT build/c_api/c_api_error.o src/c_api/c_api_error.cc >build/c_api/c_api_error.d\n",
      "    clang: error: unsupported option '-fopenmp'\n",
      "    clang: error: unsupported option '-fopenmp'\n",
      "    clang: error: unsupported option '-fopenmp'\n",
      "    clang: error: unsupported option '-fopenmp'\n",
      "    make: *** [build/c_api/c_api.o] Error 1\n",
      "    make: *** Waiting for unfinished jobs....\n",
      "    make: *** [build/logging.o] Error 1\n",
      "    make: *** [build/c_api/c_api_error.o] Error 1\n",
      "    make: *** [build/learner.o] Error 1\n",
      "    + echo -----------------------------\n",
      "    -----------------------------\n",
      "    + echo 'Building multi-thread xgboost failed'\n",
      "    Building multi-thread xgboost failed\n",
      "    + echo 'Start to build single-thread xgboost'\n",
      "    Start to build single-thread xgboost\n",
      "    + make clean\n",
      "    Makefile:31: MAKE [/Applications/Xcode.app/Contents/Developer/usr/bin/make] - checked OK\n",
      "    rm -f -rf build build_plugin lib bin *~ */*~ */*/*~ */*/*/*~ */*.o */*/*.o */*/*/*.o #xgboost\n",
      "    rm -f -rf build_tests *.gcov tests/cpp/xgboost_test\n",
      "    cd R-package/src; rm -f -rf rabit src include dmlc-core amalgamation *.so *.dll; cd /private/var/folders/ng/8_yrpj750v73j6c1432p12sh0000gn/T/pip-build-Th1lcX/xgboost/xgboost\n",
      "    /bin/sh: line 0: cd: R-package/src: No such file or directory\n",
      "    + make lib/libxgboost.dylib -j4 USE_OPENMP=0\n",
      "    Makefile:31: MAKE [/Applications/Xcode.app/Contents/Developer/usr/bin/make] - checked OK\n",
      "    Makefile:43: /private/var/folders/ng/8_yrpj750v73j6c1432p12sh0000gn/T/pip-build-Th1lcX/xgboost/xgboost/dmlc-core/make/dmlc.mk: No such file or directory\n",
      "    make: *** No rule to make target `/private/var/folders/ng/8_yrpj750v73j6c1432p12sh0000gn/T/pip-build-Th1lcX/xgboost/xgboost/dmlc-core/make/dmlc.mk'.  Stop.\n",
      "    Traceback (most recent call last):\n",
      "      File \"<string>\", line 1, in <module>\n",
      "      File \"/private/var/folders/ng/8_yrpj750v73j6c1432p12sh0000gn/T/pip-build-Th1lcX/xgboost/setup.py\", line 37, in <module>\n",
      "        LIB_PATH = libpath['find_lib_path']()\n",
      "      File \"/private/var/folders/ng/8_yrpj750v73j6c1432p12sh0000gn/T/pip-build-Th1lcX/xgboost/xgboost/libpath.py\", line 49, in find_lib_path\n",
      "        'List of candidates:\\n' + ('\\n'.join(dll_path)))\n",
      "    __builtin__.XGBoostLibraryNotFound: Cannot find XGBoost Library in the candidate path, did you install compilers and run build.sh in root path?\n",
      "    List of candidates:\n",
      "    /private/var/folders/ng/8_yrpj750v73j6c1432p12sh0000gn/T/pip-build-Th1lcX/xgboost/xgboost/libxgboost.dylib\n",
      "    /private/var/folders/ng/8_yrpj750v73j6c1432p12sh0000gn/T/pip-build-Th1lcX/xgboost/xgboost/../../lib/libxgboost.dylib\n",
      "    /private/var/folders/ng/8_yrpj750v73j6c1432p12sh0000gn/T/pip-build-Th1lcX/xgboost/xgboost/./lib/libxgboost.dylib\n",
      "    /anaconda/xgboost/libxgboost.dylib\n",
      "    \n",
      "    ----------------------------------------\n",
      "\u001b[31mCommand \"python setup.py egg_info\" failed with error code 1 in /private/var/folders/ng/8_yrpj750v73j6c1432p12sh0000gn/T/pip-build-Th1lcX/xgboost/\u001b[0m\n"
     ]
    },
    {
     "ename": "OSError",
     "evalue": "[Errno 4] Interrupted system call",
     "output_type": "error",
     "traceback": [
      "\u001b[0;31m---------------------------------------------------------------------------\u001b[0m",
      "\u001b[0;31mOSError\u001b[0m                                   Traceback (most recent call last)",
      "\u001b[0;32m<ipython-input-27-424ea51449d0>\u001b[0m in \u001b[0;36m<module>\u001b[0;34m()\u001b[0m\n\u001b[0;32m----> 1\u001b[0;31m \u001b[0mget_ipython\u001b[0m\u001b[0;34m(\u001b[0m\u001b[0;34m)\u001b[0m\u001b[0;34m.\u001b[0m\u001b[0msystem\u001b[0m\u001b[0;34m(\u001b[0m\u001b[0;34mu'pip install xgboost'\u001b[0m\u001b[0;34m)\u001b[0m\u001b[0;34m\u001b[0m\u001b[0m\n\u001b[0m",
      "\u001b[0;32m/anaconda/lib/python2.7/site-packages/IPython/core/interactiveshell.pyc\u001b[0m in \u001b[0;36msystem_piped\u001b[0;34m(self, cmd)\u001b[0m\n\u001b[1;32m   2207\u001b[0m         \u001b[0;31m# a non-None value would trigger :func:`sys.displayhook` calls.\u001b[0m\u001b[0;34m\u001b[0m\u001b[0;34m\u001b[0m\u001b[0m\n\u001b[1;32m   2208\u001b[0m         \u001b[0;31m# Instead, we store the exit_code in user_ns.\u001b[0m\u001b[0;34m\u001b[0m\u001b[0;34m\u001b[0m\u001b[0m\n\u001b[0;32m-> 2209\u001b[0;31m         \u001b[0mself\u001b[0m\u001b[0;34m.\u001b[0m\u001b[0muser_ns\u001b[0m\u001b[0;34m[\u001b[0m\u001b[0;34m'_exit_code'\u001b[0m\u001b[0;34m]\u001b[0m \u001b[0;34m=\u001b[0m \u001b[0msystem\u001b[0m\u001b[0;34m(\u001b[0m\u001b[0mself\u001b[0m\u001b[0;34m.\u001b[0m\u001b[0mvar_expand\u001b[0m\u001b[0;34m(\u001b[0m\u001b[0mcmd\u001b[0m\u001b[0;34m,\u001b[0m \u001b[0mdepth\u001b[0m\u001b[0;34m=\u001b[0m\u001b[0;36m1\u001b[0m\u001b[0;34m)\u001b[0m\u001b[0;34m)\u001b[0m\u001b[0;34m\u001b[0m\u001b[0m\n\u001b[0m\u001b[1;32m   2210\u001b[0m \u001b[0;34m\u001b[0m\u001b[0m\n\u001b[1;32m   2211\u001b[0m     \u001b[0;32mdef\u001b[0m \u001b[0msystem_raw\u001b[0m\u001b[0;34m(\u001b[0m\u001b[0mself\u001b[0m\u001b[0;34m,\u001b[0m \u001b[0mcmd\u001b[0m\u001b[0;34m)\u001b[0m\u001b[0;34m:\u001b[0m\u001b[0;34m\u001b[0m\u001b[0m\n",
      "\u001b[0;32m/anaconda/lib/python2.7/site-packages/IPython/utils/_process_posix.pyc\u001b[0m in \u001b[0;36msystem\u001b[0;34m(self, cmd)\u001b[0m\n\u001b[1;32m    186\u001b[0m                 \u001b[0mchild\u001b[0m\u001b[0;34m.\u001b[0m\u001b[0mterminate\u001b[0m\u001b[0;34m(\u001b[0m\u001b[0mforce\u001b[0m\u001b[0;34m=\u001b[0m\u001b[0mTrue\u001b[0m\u001b[0;34m)\u001b[0m\u001b[0;34m\u001b[0m\u001b[0m\n\u001b[1;32m    187\u001b[0m         \u001b[0;31m# add isalive check, to ensure exitstatus is set:\u001b[0m\u001b[0;34m\u001b[0m\u001b[0;34m\u001b[0m\u001b[0m\n\u001b[0;32m--> 188\u001b[0;31m         \u001b[0mchild\u001b[0m\u001b[0;34m.\u001b[0m\u001b[0misalive\u001b[0m\u001b[0;34m(\u001b[0m\u001b[0;34m)\u001b[0m\u001b[0;34m\u001b[0m\u001b[0m\n\u001b[0m\u001b[1;32m    189\u001b[0m \u001b[0;34m\u001b[0m\u001b[0m\n\u001b[1;32m    190\u001b[0m         \u001b[0;31m# We follow the subprocess pattern, returning either the exit status\u001b[0m\u001b[0;34m\u001b[0m\u001b[0;34m\u001b[0m\u001b[0m\n",
      "\u001b[0;32m/anaconda/lib/python2.7/site-packages/pexpect/pty_spawn.pyc\u001b[0m in \u001b[0;36misalive\u001b[0;34m(self)\u001b[0m\n\u001b[1;32m    660\u001b[0m         \u001b[0mptyproc\u001b[0m \u001b[0;34m=\u001b[0m \u001b[0mself\u001b[0m\u001b[0;34m.\u001b[0m\u001b[0mptyproc\u001b[0m\u001b[0;34m\u001b[0m\u001b[0m\n\u001b[1;32m    661\u001b[0m         \u001b[0;32mwith\u001b[0m \u001b[0m_wrap_ptyprocess_err\u001b[0m\u001b[0;34m(\u001b[0m\u001b[0;34m)\u001b[0m\u001b[0;34m:\u001b[0m\u001b[0;34m\u001b[0m\u001b[0m\n\u001b[0;32m--> 662\u001b[0;31m             \u001b[0malive\u001b[0m \u001b[0;34m=\u001b[0m \u001b[0mptyproc\u001b[0m\u001b[0;34m.\u001b[0m\u001b[0misalive\u001b[0m\u001b[0;34m(\u001b[0m\u001b[0;34m)\u001b[0m\u001b[0;34m\u001b[0m\u001b[0m\n\u001b[0m\u001b[1;32m    663\u001b[0m \u001b[0;34m\u001b[0m\u001b[0m\n\u001b[1;32m    664\u001b[0m         \u001b[0;32mif\u001b[0m \u001b[0;32mnot\u001b[0m \u001b[0malive\u001b[0m\u001b[0;34m:\u001b[0m\u001b[0;34m\u001b[0m\u001b[0m\n",
      "\u001b[0;32m/anaconda/lib/python2.7/site-packages/ptyprocess/ptyprocess.pyc\u001b[0m in \u001b[0;36misalive\u001b[0;34m(self)\u001b[0m\n\u001b[1;32m    688\u001b[0m \u001b[0;34m\u001b[0m\u001b[0m\n\u001b[1;32m    689\u001b[0m         \u001b[0;32mtry\u001b[0m\u001b[0;34m:\u001b[0m\u001b[0;34m\u001b[0m\u001b[0m\n\u001b[0;32m--> 690\u001b[0;31m             \u001b[0mpid\u001b[0m\u001b[0;34m,\u001b[0m \u001b[0mstatus\u001b[0m \u001b[0;34m=\u001b[0m \u001b[0mos\u001b[0m\u001b[0;34m.\u001b[0m\u001b[0mwaitpid\u001b[0m\u001b[0;34m(\u001b[0m\u001b[0mself\u001b[0m\u001b[0;34m.\u001b[0m\u001b[0mpid\u001b[0m\u001b[0;34m,\u001b[0m \u001b[0mwaitpid_options\u001b[0m\u001b[0;34m)\u001b[0m\u001b[0;34m\u001b[0m\u001b[0m\n\u001b[0m\u001b[1;32m    691\u001b[0m         \u001b[0;32mexcept\u001b[0m \u001b[0mOSError\u001b[0m \u001b[0;32mas\u001b[0m \u001b[0me\u001b[0m\u001b[0;34m:\u001b[0m\u001b[0;34m\u001b[0m\u001b[0m\n\u001b[1;32m    692\u001b[0m             \u001b[0;31m# No child processes\u001b[0m\u001b[0;34m\u001b[0m\u001b[0;34m\u001b[0m\u001b[0m\n",
      "\u001b[0;31mOSError\u001b[0m: [Errno 4] Interrupted system call"
     ]
    }
   ],
   "source": [
    "!pip install xgboost"
   ]
  },
  {
   "cell_type": "code",
   "execution_count": 3,
   "metadata": {
    "collapsed": true
   },
   "outputs": [],
   "source": [
    "transform = transforms.Compose(\n",
    "    [transforms.Resize(32), transforms.ToTensor(), \n",
    "     transforms.Normalize((0.5, 0.5, 0.5), (0.5, 0.5, 0.5))])"
   ]
  },
  {
   "cell_type": "code",
   "execution_count": 4,
   "metadata": {
    "collapsed": true
   },
   "outputs": [],
   "source": [
    "trainset = torchvision.datasets.STL10(root='./data', split='train', transform=transform, download=False)\n",
    "\n",
    "unlabledset = torchvision.datasets.STL10(root='./data', split='unlabeled', transform=transform, download=False)\n",
    "\n",
    "testset = torchvision.datasets.STL10(root='./data', split='test', download=False, transform=transform)"
   ]
  },
  {
   "cell_type": "code",
   "execution_count": 5,
   "metadata": {
    "collapsed": true
   },
   "outputs": [],
   "source": [
    "testloader = torch.utils.data.DataLoader(testset, batch_size=4,\n",
    "                                         shuffle=False, num_workers=1)\n",
    "\n",
    "trainloader = torch.utils.data.DataLoader(trainset, batch_size=4,\n",
    "                                          shuffle=True, num_workers=1)\n",
    "\n",
    "\n",
    "unlabledloader = torch.utils.data.DataLoader(trainset, batch_size=4,\n",
    "                                          shuffle=True, num_workers=0)"
   ]
  },
  {
   "cell_type": "code",
   "execution_count": 6,
   "metadata": {
    "collapsed": true
   },
   "outputs": [],
   "source": [
    "classes = ['airplane', 'bird', 'car', 'cat', 'deer', 'dog', 'horse', 'monkey', 'ship', 'truck']"
   ]
  },
  {
   "cell_type": "code",
   "execution_count": 8,
   "metadata": {},
   "outputs": [
    {
     "name": "stdout",
     "output_type": "stream",
     "text": [
      "horse truck truck  bird\n"
     ]
    },
    {
     "data": {
      "image/png": "[encoded data removed]",
      "text/plain": [
       "<matplotlib.figure.Figure at 0x107ebe550>"
      ]
     },
     "metadata": {},
     "output_type": "display_data"
    }
   ],
   "source": [
    "def imshow(img):\n",
    "    img = img / 2 + 0.5     # unnormalize\n",
    "    npimg = img.numpy()\n",
    "    plt.imshow(np.transpose(npimg, (1, 2, 0)))\n",
    "    plt.savefig(\"img.pdf\", bbox_inches=\"tight\")\n",
    "    \n",
    "dataiter = iter(trainloader)\n",
    "images, labels = dataiter.next()\n",
    "\n",
    "imshow(torchvision.utils.make_grid(images))\n",
    "print(' '.join('%5s' % classes[labels[j]] for j in range(4)))"
   ]
  },
  {
   "cell_type": "markdown",
   "metadata": {},
   "source": [
    "# Эксперимент №1:\n",
    "## Бейслайны на основе мультиноминальной регрессии и xgboost"
   ]
  },
  {
   "cell_type": "code",
   "execution_count": 5,
   "metadata": {
    "collapsed": true
   },
   "outputs": [],
   "source": [
    "class Net(nn.Module):\n",
    "    def __init__(self):\n",
    "        super(Net, self).__init__()\n",
    "        self.fc1 = nn.Linear(3 * 32 * 32, 10)\n",
    "\n",
    "    def forward(self, x):\n",
    "        x = x.view(-1, 3 * 32 * 32)\n",
    "        x = self.fc1(x)\n",
    "        return x"
   ]
  },
  {
   "cell_type": "code",
   "execution_count": 6,
   "metadata": {},
   "outputs": [
    {
     "name": "stdout",
     "output_type": "stream",
     "text": [
      "Finished Training\n"
     ]
    }
   ],
   "source": [
    "net = Net()\n",
    "\n",
    "criterion = nn.CrossEntropyLoss()\n",
    "\n",
    "optimizer = optim.SGD(net.parameters(), lr=0.001, weight_decay=0.0001)\n",
    "\n",
    "for epoch in range(40):  # loop over the dataset multiple times\n",
    "\n",
    "    running_loss = 0.0\n",
    "    for i, data in enumerate(trainloader, 0):\n",
    "        # get the inputs\n",
    "        inputs, labels = data\n",
    "\n",
    "        # wrap them in Variable\n",
    "        inputs, labels = Variable(inputs), Variable(labels)\n",
    "\n",
    "        # zero the parameter gradients\n",
    "        optimizer.zero_grad()\n",
    "\n",
    "        # forward + backward + optimize\n",
    "        outputs = net(inputs)\n",
    "        loss = criterion(outputs, labels)\n",
    "        loss.backward()\n",
    "        optimizer.step()\n",
    "\n",
    "        # print statistics\n",
    "        running_loss += loss.data[0]\n",
    "        if i %  1000 == 999:    # print every 1000 mini-batches\n",
    "            #print('[%d, %5d] loss: %.3f' % (epoch + 1, i + 1, running_loss / 1000))\n",
    "            running_loss = 0.0\n",
    "\n",
    "print('Finished Training')"
   ]
  },
  {
   "cell_type": "code",
   "execution_count": 11,
   "metadata": {
    "collapsed": true
   },
   "outputs": [],
   "source": [
    "y_pred = []\n",
    "y_true = []"
   ]
  },
  {
   "cell_type": "code",
   "execution_count": 8,
   "metadata": {
    "collapsed": true
   },
   "outputs": [],
   "source": [
    "for data in testloader:\n",
    "    images, labels = data\n",
    "    for i in labels:\n",
    "        y_true.append(i)"
   ]
  },
  {
   "cell_type": "code",
   "execution_count": 12,
   "metadata": {},
   "outputs": [
    {
     "name": "stdout",
     "output_type": "stream",
     "text": [
      "Accuracy of the network on test images: 36 %\n"
     ]
    }
   ],
   "source": [
    "correct = 0\n",
    "total = 0\n",
    "for data in testloader:\n",
    "    images, labels = data\n",
    "    outputs = net(Variable(images))\n",
    "    _, predicted = torch.max(outputs.data, 1)\n",
    "    for i in outputs:\n",
    "        y_pred.append(i)\n",
    "    for i in labels:\n",
    "        y_true.append(i)\n",
    "    total += labels.size(0)\n",
    "    correct += (predicted == labels).sum()\n",
    "\n",
    "print('Accuracy of the network on test images: %d %%' % (100 * correct / total))"
   ]
  },
  {
   "cell_type": "code",
   "execution_count": 13,
   "metadata": {
    "collapsed": true
   },
   "outputs": [],
   "source": [
    "y_pred = np.array([x.data.numpy() for x in y_pred])"
   ]
  },
  {
   "cell_type": "code",
   "execution_count": 14,
   "metadata": {},
   "outputs": [
    {
     "name": "stdout",
     "output_type": "stream",
     "text": [
      "('Multinomial log loss:', 6.5222149820085615)\n"
     ]
    }
   ],
   "source": [
    "print(\"Multinomial log loss:\", log_loss(y_true, y_pred))"
   ]
  },
  {
   "cell_type": "code",
   "execution_count": 142,
   "metadata": {
    "collapsed": true
   },
   "outputs": [],
   "source": [
    "cl = xgb.XGBClassifier(max_depth=8, n_estimators=200, objective=\"multi:softmax\", n_jobs=2)"
   ]
  },
  {
   "cell_type": "code",
   "execution_count": 143,
   "metadata": {
    "collapsed": true
   },
   "outputs": [],
   "source": [
    "train = []\n",
    "target = []\n",
    "\n",
    "for i, img in enumerate(iter(trainset)):\n",
    "    train.append(img[0])\n",
    "    target.append(img[1])\n",
    "\n",
    "train = [x.numpy() for x in train]\n",
    "\n",
    "train = [x.ravel() for x in train]"
   ]
  },
  {
   "cell_type": "code",
   "execution_count": 144,
   "metadata": {
    "collapsed": true
   },
   "outputs": [],
   "source": [
    "test = []\n",
    "target_test = []\n",
    "\n",
    "for i, img in enumerate(iter(testset)):\n",
    "    test.append(img[0])\n",
    "    target_test.append(img[1])\n",
    "\n",
    "test = [x.numpy() for x in test]\n",
    "\n",
    "test = [x.ravel() for x in test]"
   ]
  },
  {
   "cell_type": "code",
   "execution_count": 145,
   "metadata": {
    "collapsed": true
   },
   "outputs": [],
   "source": [
    "train = np.array(train)"
   ]
  },
  {
   "cell_type": "code",
   "execution_count": 146,
   "metadata": {
    "collapsed": true
   },
   "outputs": [],
   "source": [
    "test = np.array(test)"
   ]
  },
  {
   "cell_type": "code",
   "execution_count": 147,
   "metadata": {},
   "outputs": [
    {
     "data": {
      "text/plain": [
       "XGBClassifier(base_score=0.5, booster='gbtree', colsample_bylevel=1,\n",
       "       colsample_bytree=1, gamma=0, learning_rate=0.1, max_delta_step=0,\n",
       "       max_depth=8, min_child_weight=1, missing=None, n_estimators=200,\n",
       "       n_jobs=2, nthread=None, objective='multi:softprob', random_state=0,\n",
       "       reg_alpha=0, reg_lambda=1, scale_pos_weight=1, seed=None,\n",
       "       silent=True, subsample=1)"
      ]
     },
     "execution_count": 147,
     "metadata": {},
     "output_type": "execute_result"
    }
   ],
   "source": [
    "cl.fit(train, target)"
   ]
  },
  {
   "cell_type": "code",
   "execution_count": 148,
   "metadata": {
    "collapsed": true
   },
   "outputs": [],
   "source": [
    "y_pred_ = cl.predict(test)"
   ]
  },
  {
   "cell_type": "code",
   "execution_count": 149,
   "metadata": {},
   "outputs": [
    {
     "name": "stdout",
     "output_type": "stream",
     "text": [
      "xgboost accuracy =  0.459625\n"
     ]
    }
   ],
   "source": [
    "print(\"xgboost accuracy = \", (target_test == y_pred_).sum() / len(target_test))"
   ]
  },
  {
   "cell_type": "code",
   "execution_count": 150,
   "metadata": {
    "collapsed": true
   },
   "outputs": [],
   "source": [
    "probas = cl.predict_proba(test)"
   ]
  },
  {
   "cell_type": "code",
   "execution_count": 151,
   "metadata": {},
   "outputs": [
    {
     "name": "stdout",
     "output_type": "stream",
     "text": [
      "xgboost log loss:  1.5520191329\n"
     ]
    }
   ],
   "source": [
    "print(\"xgboost log loss: \", log_loss(target_test, probas))"
   ]
  },
  {
   "cell_type": "markdown",
   "metadata": {},
   "source": [
    "# Эксперимент №2:\n",
    "## Свёрточная сеть"
   ]
  },
  {
   "cell_type": "code",
   "execution_count": 18,
   "metadata": {
    "collapsed": true
   },
   "outputs": [],
   "source": [
    "class ConvNet(nn.Module):\n",
    "    def __init__(self, kernel_size=3, filter_per_layer=5, blocks=1):\n",
    "        super(ConvNet, self).__init__()\n",
    "        self.layers = list()\n",
    "        self.output = 3\n",
    "        self.image_size = 32\n",
    "        for i in range(blocks):\n",
    "            self.image_size += 2 - (kernel_size - 1)\n",
    "            self.layers.append(nn.Conv2d(self.output, filter_per_layer * self.output, kernel_size, padding=1))\n",
    "            self.layers.append(nn.ReLU())\n",
    "            self.layers.append(nn.MaxPool2d(2, padding=0, stride=2))\n",
    "            self.output *= filter_per_layer\n",
    "            self.image_size = self.image_size // 2\n",
    "        self.fc1 = nn.Linear(self.output * (self.image_size ** 2), 10)\n",
    "        self.layers = nn.Sequential(*self.layers)\n",
    "\n",
    "    def forward(self, x):\n",
    "        x = self.layers(x)\n",
    "        x = x.view(-1, self.output * (self.image_size ** 2))\n",
    "        x = self.fc1(x)\n",
    "        return x"
   ]
  },
  {
   "cell_type": "code",
   "execution_count": 46,
   "metadata": {
    "collapsed": true
   },
   "outputs": [],
   "source": [
    "def conv_net_experiment(kernel_size=3, filter_per_layer=10, blocks=1, momentum=0.001):\n",
    "    \n",
    "    conv_net = ConvNet(kernel_size, filter_per_layer, blocks)\n",
    "    \n",
    "    optimizer = optim.SGD(conv_net.parameters(), lr=0.001, weight_decay=0.001, momentum=momentum)\n",
    "    \n",
    "    criterion = nn.CrossEntropyLoss()\n",
    "    \n",
    "    t = timeit.Timer()\n",
    "    time = t.timer()\n",
    "    loss = 0\n",
    "    for epoch in range(25):  # loop over the dataset multiple times\n",
    "\n",
    "        running_loss = 0.0\n",
    "        for i, data in enumerate(trainloader, 0):\n",
    "            # get the inputs\n",
    "            inputs, labels = data\n",
    "\n",
    "            # wrap them in Variable\n",
    "            inputs, labels = Variable(inputs), Variable(labels)\n",
    "\n",
    "            # zero the parameter gradients\n",
    "            optimizer.zero_grad()\n",
    "\n",
    "            # forward + backward + optimize\n",
    "            outputs = conv_net(inputs)\n",
    "            loss = criterion(outputs, labels)\n",
    "            loss.backward()\n",
    "            optimizer.step()\n",
    "\n",
    "    time = t.timer() - time\n",
    "    correct = 0.0\n",
    "    total = 0.0\n",
    "    y_pred = []\n",
    "    for data in testloader:\n",
    "        images, labels = data\n",
    "        outputs = conv_net(Variable(images))\n",
    "        _, predicted = torch.max(outputs.data, 1)\n",
    "        for i in outputs:\n",
    "            y_pred.append(i)\n",
    "        total += labels.size(0)\n",
    "        correct += (predicted == labels).sum()\n",
    "    accuracy = correct / total\n",
    "    y_pred = np.array([x.data.numpy() for x in y_pred])\n",
    "    loss = log_loss(y_true, y_pred)\n",
    "\n",
    "    return (time, loss, accuracy)"
   ]
  },
  {
   "cell_type": "markdown",
   "metadata": {
    "collapsed": true
   },
   "source": [
    "## Исследование влияния размера ядра свертки"
   ]
  },
  {
   "cell_type": "code",
   "execution_count": 47,
   "metadata": {
    "collapsed": true
   },
   "outputs": [],
   "source": [
    "stat1 = list()\n",
    "\n",
    "for i in range(2, 9):    \n",
    "    stat = conv_net_experiment(kernel_size=i, filter_per_layer=5, blocks=1)\n",
    "    stat1.append(stat)"
   ]
  },
  {
   "cell_type": "code",
   "execution_count": 48,
   "metadata": {},
   "outputs": [
    {
     "data": {
      "text/plain": [
       "[(70.68868398666382, 3.9309537418251859, 0.457625),\n",
       " (70.37411499023438, 3.4155002981051803, 0.49025),\n",
       " (71.25286984443665, 2.9534916490279137, 0.501625),\n",
       " (71.8266339302063, 3.2227054556310177, 0.4955),\n",
       " (72.67794609069824, 3.2909828026145695, 0.500875),\n",
       " (74.45849418640137, 3.3883838501395656, 0.491625),\n",
       " (93.84602093696594, 3.059726268403232, 0.485875)]"
      ]
     },
     "execution_count": 48,
     "metadata": {},
     "output_type": "execute_result"
    }
   ],
   "source": [
    "stat1"
   ]
  },
  {
   "cell_type": "code",
   "execution_count": 61,
   "metadata": {
    "collapsed": true
   },
   "outputs": [],
   "source": [
    "stat1 = np.array(stat1)"
   ]
  },
  {
   "cell_type": "code",
   "execution_count": 62,
   "metadata": {},
   "outputs": [
    {
     "data": {
      "text/plain": [
       "array([[ 70.68868399,   3.93095374,   0.457625  ],\n",
       "       [ 70.37411499,   3.4155003 ,   0.49025   ],\n",
       "       [ 71.25286984,   2.95349165,   0.501625  ],\n",
       "       [ 71.82663393,   3.22270546,   0.4955    ],\n",
       "       [ 72.67794609,   3.2909828 ,   0.500875  ],\n",
       "       [ 74.45849419,   3.38838385,   0.491625  ],\n",
       "       [ 93.84602094,   3.05972627,   0.485875  ]])"
      ]
     },
     "execution_count": 62,
     "metadata": {},
     "output_type": "execute_result"
    }
   ],
   "source": [
    "stat1"
   ]
  },
  {
   "cell_type": "code",
   "execution_count": 65,
   "metadata": {},
   "outputs": [
    {
     "data": {
      "text/plain": [
       "[2, 3, 4, 5, 6, 7, 8]"
      ]
     },
     "execution_count": 65,
     "metadata": {},
     "output_type": "execute_result"
    }
   ],
   "source": [
    "range(2, 9)"
   ]
  },
  {
   "cell_type": "code",
   "execution_count": 100,
   "metadata": {},
   "outputs": [
    {
     "data": {
      "image/png": "[encoded data removed]",
      "text/plain": [
       "<matplotlib.figure.Figure at 0x1b985e05d0>"
      ]
     },
     "metadata": {},
     "output_type": "display_data"
    }
   ],
   "source": [
    "f, (ax1, ax2, ax3) = plt.subplots(1, 3, figsize=(12, 3))\n",
    "\n",
    "ax1.plot(range(2, 9), stat1[:, 0], lw=3.0, c='b')\n",
    "ax1.set_xlabel(u\"Размер фильтра\")\n",
    "ax1.set_ylabel(u\"Время работы\")\n",
    "ax2.plot(range(2, 9), stat1[:, 2], lw=3.0, c='r')\n",
    "ax2.set_xlabel(u\"Размер фильтра\")\n",
    "ax2.set_ylabel(u\"Точность\")\n",
    "ax3.plot(range(2, 9), stat1[:, 1], lw=3.0, c='y')\n",
    "ax3.set_xlabel(u\"Размер фильтра\")\n",
    "ax3.set_ylabel(u\"Потери на тесте\")\n",
    "\n",
    "ax1.grid()\n",
    "ax2.grid()\n",
    "ax3.grid()\n",
    "\n",
    "plt.tight_layout()"
   ]
  },
  {
   "cell_type": "code",
   "execution_count": 101,
   "metadata": {
    "collapsed": true
   },
   "outputs": [],
   "source": [
    "f.savefig(\"filt.pdf\", bbox_inches=\"tight\")"
   ]
  },
  {
   "cell_type": "markdown",
   "metadata": {},
   "source": [
    "## Исследование влияния количества фильтров"
   ]
  },
  {
   "cell_type": "code",
   "execution_count": 49,
   "metadata": {
    "collapsed": true
   },
   "outputs": [],
   "source": [
    "stat2 = list()\n",
    "\n",
    "for i in range(5, 41, 3):    \n",
    "    stat = conv_net_experiment(kernel_size=3, filter_per_layer=i, blocks=1)\n",
    "    stat2.append(stat)"
   ]
  },
  {
   "cell_type": "code",
   "execution_count": 50,
   "metadata": {},
   "outputs": [
    {
     "data": {
      "text/plain": [
       "[(70.45873212814331, 3.5570710656568409, 0.501625),\n",
       " (70.22018098831177, 3.2373260802589359, 0.5095),\n",
       " (85.37397003173828, 3.4090774710699914, 0.5055),\n",
       " (99.01704597473145, 3.1175258156023919, 0.515125),\n",
       " (110.45299792289734, 3.0819268003050238, 0.509125),\n",
       " (123.87198185920715, 3.2213191793486478, 0.514125),\n",
       " (137.78230810165405, 3.1854950612932442, 0.521125),\n",
       " (155.4908149242401, 3.1763185343518852, 0.51575),\n",
       " (171.853835105896, 3.0637139205690471, 0.5305),\n",
       " (193.20058798789978, 3.0540130181517453, 0.52475),\n",
       " (206.81210899353027, 3.3234941562227904, 0.517),\n",
       " (220.93130803108215, 3.2436113044361119, 0.522875)]"
      ]
     },
     "execution_count": 50,
     "metadata": {},
     "output_type": "execute_result"
    }
   ],
   "source": [
    "stat2"
   ]
  },
  {
   "cell_type": "code",
   "execution_count": 93,
   "metadata": {
    "collapsed": true
   },
   "outputs": [],
   "source": [
    "stat2 = np.array(stat2)"
   ]
  },
  {
   "cell_type": "code",
   "execution_count": 102,
   "metadata": {},
   "outputs": [
    {
     "data": {
      "image/png": "[encoded data removed]",
      "text/plain": [
       "<matplotlib.figure.Figure at 0x1b3a36f550>"
      ]
     },
     "metadata": {},
     "output_type": "display_data"
    }
   ],
   "source": [
    "f, (ax1, ax2, ax3) = plt.subplots(1, 3, figsize=(12, 3))\n",
    "\n",
    "ax1.plot(range(5, 41, 3), stat2[:, 0], lw=3.0, c='b')\n",
    "ax1.set_xlabel(u\"Количество фильтров\")\n",
    "ax1.set_ylabel(u\"Время работы\")\n",
    "ax2.plot(range(5, 41, 3), stat2[:, 2], lw=3.0, c='r')\n",
    "ax2.set_xlabel(u\"Количество фильтров\")\n",
    "ax2.set_ylabel(u\"Точность\")\n",
    "ax3.plot(range(5, 41, 3), stat2[:, 1], lw=3.0, c='y')\n",
    "ax3.set_xlabel(u\"Количество фильтров\")\n",
    "ax3.set_ylabel(u\"Потери на тесте\")\n",
    "\n",
    "ax1.grid()\n",
    "ax2.grid()\n",
    "ax3.grid()\n",
    "\n",
    "plt.tight_layout()"
   ]
  },
  {
   "cell_type": "code",
   "execution_count": 103,
   "metadata": {
    "collapsed": true
   },
   "outputs": [],
   "source": [
    "f.savefig(\"filt_num.pdf\", bbox_inches=\"tight\")"
   ]
  },
  {
   "cell_type": "markdown",
   "metadata": {},
   "source": [
    "## Исследование влияния количества блоков в сети"
   ]
  },
  {
   "cell_type": "code",
   "execution_count": 51,
   "metadata": {
    "collapsed": true
   },
   "outputs": [],
   "source": [
    "stat3 = list()\n",
    "\n",
    "for i in range(1, 4):\n",
    "    stat = conv_net_experiment(kernel_size=3, filter_per_layer=8, blocks=i)\n",
    "    stat3.append(stat)"
   ]
  },
  {
   "cell_type": "code",
   "execution_count": 52,
   "metadata": {},
   "outputs": [
    {
     "data": {
      "text/plain": [
       "[(70.81177306175232, 3.2176374489255251, 0.503),\n",
       " (243.0125069618225, 3.0262383787650613, 0.5345),\n",
       " (1922.064610004425, 3.3621731678619979, 0.528875)]"
      ]
     },
     "execution_count": 52,
     "metadata": {},
     "output_type": "execute_result"
    }
   ],
   "source": [
    "stat3"
   ]
  },
  {
   "cell_type": "code",
   "execution_count": 97,
   "metadata": {
    "collapsed": true
   },
   "outputs": [],
   "source": [
    "stat3 = np.array(stat3)"
   ]
  },
  {
   "cell_type": "code",
   "execution_count": 104,
   "metadata": {},
   "outputs": [
    {
     "data": {
      "image/png": "[encoded data removed]",
      "text/plain": [
       "<matplotlib.figure.Figure at 0x11c751310>"
      ]
     },
     "metadata": {},
     "output_type": "display_data"
    }
   ],
   "source": [
    "f, (ax1, ax2, ax3) = plt.subplots(1, 3, figsize=(12, 3))\n",
    "\n",
    "ax1.plot(range(1, 4), stat3[:, 0], lw=3.0, c='b')\n",
    "ax1.set_xlabel(u\"Количество блоков\")\n",
    "ax1.set_ylabel(u\"Время работы\")\n",
    "ax2.plot(range(1, 4), stat3[:, 2], lw=3.0, c='r')\n",
    "ax2.set_xlabel(u\"Количество блоков\")\n",
    "ax2.set_ylabel(u\"Точность\")\n",
    "ax3.plot(range(1, 4), stat3[:, 1], lw=3.0, c='y')\n",
    "ax3.set_xlabel(u\"Количество блоков\")\n",
    "ax3.set_ylabel(u\"Потери на тесте\")\n",
    "\n",
    "ax1.grid()\n",
    "ax2.grid()\n",
    "ax3.grid()\n",
    "\n",
    "plt.tight_layout()"
   ]
  },
  {
   "cell_type": "code",
   "execution_count": 105,
   "metadata": {
    "collapsed": true
   },
   "outputs": [],
   "source": [
    "f.savefig(\"blocks.pdf\", bbox_inches=\"tight\")"
   ]
  },
  {
   "cell_type": "code",
   "execution_count": null,
   "metadata": {
    "collapsed": true
   },
   "outputs": [],
   "source": [
    "stat4 = list()"
   ]
  },
  {
   "cell_type": "markdown",
   "metadata": {},
   "source": [
    "## Исследование стратегий использования momentum"
   ]
  },
  {
   "cell_type": "code",
   "execution_count": 57,
   "metadata": {
    "collapsed": true
   },
   "outputs": [],
   "source": [
    "stat4 = list()\n",
    "\n",
    "coef = [0, 0.0001, 0.0005 ,0.001, 0.005 ,0.01, 0.05 ,0.1, 0.5, 0.7, 0.9]\n",
    "for k in coef:\n",
    "    stat = conv_net_experiment(kernel_size=5, filter_per_layer=16, blocks=1, momentum = k)\n",
    "    stat4.append(stat)"
   ]
  },
  {
   "cell_type": "code",
   "execution_count": 58,
   "metadata": {},
   "outputs": [
    {
     "data": {
      "text/plain": [
       "[(109.67114186286926, 3.189867402199656, 0.508375),\n",
       " (111.80015110969543, 3.178206679167226, 0.5255),\n",
       " (112.50367999076843, 3.2642869543507693, 0.5175),\n",
       " (114.28694295883179, 3.47461467231065, 0.51125),\n",
       " (115.7029128074646, 3.292881024621427, 0.507125),\n",
       " (112.0688910484314, 3.1708494224101305, 0.51625),\n",
       " (113.49274492263794, 3.0951183179467918, 0.515875),\n",
       " (112.39318490028381, 3.2002304836995901, 0.518625),\n",
       " (112.94874811172485, 3.2309968823483213, 0.5195),\n",
       " (112.96726703643799, 3.2616448318585753, 0.520375),\n",
       " (112.29402303695679, 3.2772819202896208, 0.548625)]"
      ]
     },
     "execution_count": 58,
     "metadata": {},
     "output_type": "execute_result"
    }
   ],
   "source": [
    "stat4"
   ]
  },
  {
   "cell_type": "code",
   "execution_count": 108,
   "metadata": {
    "collapsed": true
   },
   "outputs": [],
   "source": [
    "stat4 = np.array(stat4)"
   ]
  },
  {
   "cell_type": "code",
   "execution_count": 117,
   "metadata": {},
   "outputs": [
    {
     "name": "stderr",
     "output_type": "stream",
     "text": [
      "/anaconda/lib/python2.7/site-packages/ipykernel_launcher.py:1: RuntimeWarning: divide by zero encountered in log\n",
      "  \"\"\"Entry point for launching an IPython kernel.\n"
     ]
    }
   ],
   "source": [
    "coef_ = np.log(np.array(coef))"
   ]
  },
  {
   "cell_type": "code",
   "execution_count": 118,
   "metadata": {},
   "outputs": [
    {
     "data": {
      "text/plain": [
       "array([       -inf, -9.21034037, -7.60090246, -6.90775528, -5.29831737,\n",
       "       -4.60517019, -2.99573227, -2.30258509, -0.69314718, -0.35667494,\n",
       "       -0.10536052])"
      ]
     },
     "execution_count": 118,
     "metadata": {},
     "output_type": "execute_result"
    }
   ],
   "source": [
    "coef_"
   ]
  },
  {
   "cell_type": "code",
   "execution_count": 130,
   "metadata": {},
   "outputs": [
    {
     "data": {
      "image/png": "[encoded data removed]",
      "text/plain": [
       "<matplotlib.figure.Figure at 0x115bd4d90>"
      ]
     },
     "metadata": {},
     "output_type": "display_data"
    }
   ],
   "source": [
    "f, (ax1, ax2, ax3) = plt.subplots(1, 3, figsize=(12, 3))\n",
    "\n",
    "\n",
    "ax1.plot(coef, stat4[:, 0], lw=3.0, c='b')\n",
    "ax1.set_xlabel(\"Momentum\")\n",
    "ax1.set_ylabel(u\"Время работы\")\n",
    "ax2.plot(coef, stat4[:, 2], lw=3.0, c='r')\n",
    "ax2.set_xlabel(\"Momentum\")\n",
    "ax2.set_ylabel(u\"Точность\")\n",
    "ax3.plot(coef, stat4[:, 1], lw=3.0, c='y')\n",
    "ax3.set_xlabel(\"Momentum\")\n",
    "ax3.set_ylabel(u\"Потери на тесте\")\n",
    "\n",
    "ax1.grid()\n",
    "ax2.grid()\n",
    "ax3.grid()\n",
    "ax1.set_xscale('log')\n",
    "ax2.set_xscale('log')\n",
    "ax3.set_xscale('log')\n",
    "plt.tight_layout()"
   ]
  },
  {
   "cell_type": "code",
   "execution_count": 131,
   "metadata": {
    "collapsed": true
   },
   "outputs": [],
   "source": [
    "f.savefig(\"moment.pdf\", bbox_inches=\"tight\")"
   ]
  },
  {
   "cell_type": "markdown",
   "metadata": {},
   "source": [
    "# Эксперимент №3:\n",
    "## Автокодировщик. Подбор параметров"
   ]
  },
  {
   "cell_type": "code",
   "execution_count": 9,
   "metadata": {
    "collapsed": true
   },
   "outputs": [],
   "source": [
    "class ConvAutoEncoder(nn.Module):\n",
    "    def __init__(self, \n",
    "                 input_size=(3, 32, 32), \n",
    "                 layers_num=2,\n",
    "                 conv_out_channels=(6, 6),\n",
    "                 conv_kernel_size=(2, 2),\n",
    "                 conv_stride=(2, 2),\n",
    "                 conv_padding=(1, 1),\n",
    "                 pool_kernel_size=(2, 3),\n",
    "                 pool_stride=(1, 1),\n",
    "                 pool_padding=(0, 0)):\n",
    "        super(ConvAutoEncoder, self).__init__()\n",
    "        self.input_s = input_size\n",
    "        self.conv_out_ch = conv_out_channels\n",
    "        self.encoder_ = nn.Sequential(\n",
    "            nn.Conv2d(input_size[0], conv_out_channels[0], conv_kernel_size[0], conv_stride[0], padding=conv_padding[0]),\n",
    "            nn.ReLU())\n",
    "        self.pool = nn.MaxPool2d(pool_kernel_size[0], pool_stride[0], pool_padding[0], return_indices=True)\n",
    "            \n",
    "        self.unpool = nn.MaxUnpool2d(pool_kernel_size[1], pool_stride[1], pool_padding[1])\n",
    "        self.decoder_ = nn.Sequential(\n",
    "            nn.ConvTranspose2d(conv_out_channels[1], input_size[0], conv_kernel_size[1], conv_stride[1], padding=conv_padding[1]),\n",
    "            nn.Tanh())\n",
    "            \n",
    "    def forward(self, x, indices=0):\n",
    "        x = self.encoder_(x)\n",
    "        size = x.size()\n",
    "        x, indices = self.pool(x)\n",
    "        ##print(x.size())\n",
    "        x = self.unpool(x, indices, output_size=size)\n",
    "        x = self.decoder_(x)\n",
    "        return x"
   ]
  },
  {
   "cell_type": "code",
   "execution_count": 10,
   "metadata": {
    "collapsed": true
   },
   "outputs": [],
   "source": [
    "def autoencoder_experiment(input_size=(3, 32, 32), \n",
    "                 layers_num=1,\n",
    "                 conv_out_channels=(24, 24),\n",
    "                 conv_kernel_size=(3, 3),\n",
    "                 conv_stride=(1, 1),\n",
    "                 conv_padding=(1, 1),\n",
    "                 pool_kernel_size=(2, 2),\n",
    "                 pool_stride=(2, 2),\n",
    "                 pool_padding=(0, 0),\n",
    "                 rounds=30):\n",
    "    \n",
    "    autoen = ConvAutoEncoder(\n",
    "        input_size, \n",
    "        layers_num, \n",
    "        conv_out_channels, \n",
    "        conv_kernel_size,\n",
    "        conv_stride,\n",
    "        conv_padding,\n",
    "        pool_kernel_size,\n",
    "        pool_stride,\n",
    "\n",
    "         pool_padding)\n",
    "    \n",
    "    optimizer = optim.Adam(autoen.parameters(), lr=0.001, weight_decay=1e-5)\n",
    "    \n",
    "    criterion = nn.MSELoss()\n",
    "    \n",
    "    t = timeit.Timer()\n",
    "    time = t.timer()\n",
    "    loss = 0\n",
    "    for epoch in range(rounds):  # loop over the dataset multiple times\n",
    "\n",
    "        running_loss = 0.0\n",
    "        for i, data in enumerate(unlabledloader, 0):\n",
    "            # get the inputs\n",
    "            inputs, labels = data\n",
    "\n",
    "            # wrap them in Variable\n",
    "            inputs= Variable(inputs)\n",
    "\n",
    "            # zero the parameter gradients\n",
    "            optimizer.zero_grad()\n",
    "\n",
    "            # forward + backward + optimize\n",
    "            outputs = autoen(inputs)\n",
    "            loss = criterion(outputs, inputs)\n",
    "            loss.backward()\n",
    "            optimizer.step()\n",
    "\n",
    "            # print statistics\n",
    "            running_loss += loss.data[0]\n",
    "            if i %  2000 == 1999:    # print every 1000 mini-batches\n",
    "                #print('[%d, %5d] loss: %.3f' % (epoch + 1, i + 1, running_loss / 2000))\n",
    "                #r_l = running_loss / 2000\n",
    "                running_loss = 0.0\n",
    "    \n",
    "    time = t.timer() - time\n",
    "    sum_ = 0\n",
    "    for dat, lab in testloader:\n",
    "        dat = Variable(dat)\n",
    "        res = autoen(dat)\n",
    "        sum_+= ((dat.data - res.data).numpy().ravel() ** 2).sum()\n",
    "    sum_ /= (len(testset.data) * 32 * 32 * 4)\n",
    "    print('Finished Training')\n",
    "    return (autoen, (time, sum_))"
   ]
  },
  {
   "cell_type": "code",
   "execution_count": 9,
   "metadata": {
    "collapsed": true
   },
   "outputs": [],
   "source": [
    "conv_out_ch = [(5, 5),(8, 8),(10, 10),(12, 12),(14, 14),(17, 17), (20, 20), (22, 22), (24, 24)]\n",
    "conv_ker_s_max_pad = [((2, 2), 1), ((3, 3), 1), ((4, 4), 2), ((5, 5), 3), ((6, 6), 4), ((7, 7), 4), ((8, 8), 6)]\n",
    "conv_strides = [(1, 1), (2, 2), (3, 3), (4, 4)]\n",
    "pool_ker_s_max_pad = [((2, 2), 1), ((3, 3), 2), ((4, 4), 3)]\n",
    "pool_strides = [(1, 1), (2, 2), (3, 3), (4, 4)]"
   ]
  },
  {
   "cell_type": "code",
   "execution_count": 10,
   "metadata": {
    "collapsed": true
   },
   "outputs": [],
   "source": [
    "autoen_models = []"
   ]
  },
  {
   "cell_type": "code",
   "execution_count": null,
   "metadata": {},
   "outputs": [],
   "source": [
    "for ch in conv_out_ch:\n",
    "    for ker_s, max_pad in conv_ker_s_max_pad:\n",
    "        for pad in range(max_pad):\n",
    "            for conv_str in conv_strides:\n",
    "                side = (32 - ker_s[0] + 1 + 2 * pad) // conv_str[0]\n",
    "                for pool_ker, max_pad_p in pool_ker_s_max_pad:\n",
    "                    for pad_p in range(max_pad_p):\n",
    "                        for pool_str in pool_strides:\n",
    "                            new_side = (side - pool_ker[0] + 1 + 2 * pad_p) // pool_str[0]\n",
    "                            if (((new_side ** 2) * ch[0]) > ((3 * 32 * 32) - 1000)) or (((new_side ** 2) * ch[0]) < 800):\n",
    "                                print(\"model with ch=\", ch[0],\", conv_ker=\", ker_s[0], \", c_pad=\", pad, \", c_str=\", conv_str[0],\n",
    "                                      \", \\npool_ker=\", pool_ker[0], \", p_pad=\", pad_p, \", p_str=\",pool_str[0],  \" doesn\\'t match\")\n",
    "                                continue\n",
    "                            print('\\n')\n",
    "                            try:\n",
    "                                autoen_models.append(autoencoder_experiment(conv_out_channels=ch,\n",
    "                                                                       conv_kernel_size=ker_s,\n",
    "                                                                       conv_padding=(pad, pad),\n",
    "                                                                       conv_stride=conv_str,\n",
    "                                                                       pool_kernel_size=pool_ker,\n",
    "                                                                       pool_padding=(pad_p, pad_p),\n",
    "                                                                       pool_stride=pool_str))\n",
    "                                print(\"output size=\", (new_side ** 2) * ch[0])\n",
    "                                print(\"model with ch=\", ch[0],\",conv_ker=\", ker_s[0], \", c_pad=\", pad, \", c_str=\", conv_str[0],\n",
    "                                      \", \\npool_ker=\", pool_ker[0], \", p_pad=\", pad_p, \", p_str=\",pool_str[0],  \" matches\")\n",
    "                                print('\\n')\n",
    "                            except:\n",
    "                                print(\"next\")"
   ]
  },
  {
   "cell_type": "code",
   "execution_count": 12,
   "metadata": {
    "collapsed": true
   },
   "outputs": [],
   "source": [
    "autoen_models = sorted(autoen_models, key=lambda x: x[1][1])"
   ]
  },
  {
   "cell_type": "code",
   "execution_count": 13,
   "metadata": {},
   "outputs": [
    {
     "data": {
      "text/plain": [
       "ConvAutoEncoder(\n",
       "  (encoder_): Sequential(\n",
       "    (0): Conv2d (3, 20, kernel_size=(7, 7), stride=(1, 1), padding=(3, 3))\n",
       "    (1): ReLU()\n",
       "  )\n",
       "  (pool): MaxPool2d(kernel_size=(2, 2), stride=(3, 3), dilation=(1, 1))\n",
       "  (unpool): MaxUnpool2d(kernel_size=(2, 2), stride=(3, 3), padding=(0, 0))\n",
       "  (decoder_): Sequential(\n",
       "    (0): ConvTranspose2d (20, 3, kernel_size=(7, 7), stride=(1, 1), padding=(3, 3))\n",
       "    (1): Tanh()\n",
       "  )\n",
       ")"
      ]
     },
     "execution_count": 13,
     "metadata": {},
     "output_type": "execute_result"
    }
   ],
   "source": [
    "autoen_models[0][0]"
   ]
  },
  {
   "cell_type": "code",
   "execution_count": 14,
   "metadata": {
    "collapsed": true
   },
   "outputs": [],
   "source": [
    "best_autoen = autoen_models[0][0]"
   ]
  },
  {
   "cell_type": "code",
   "execution_count": 26,
   "metadata": {},
   "outputs": [
    {
     "name": "stdout",
     "output_type": "stream",
     "text": [
      " deer  deer truck truck\n"
     ]
    },
    {
     "data": {
      "image/png": "[encoded data removed]",
      "text/plain": [
       "<matplotlib.figure.Figure at 0x7effa54ff390>"
      ]
     },
     "metadata": {},
     "output_type": "display_data"
    }
   ],
   "source": [
    "dataiter = iter(unlabledloader)\n",
    "images, labels = dataiter.next()\n",
    "\n",
    "imshow(torchvision.utils.make_grid(autoen_models[5][0](Variable(images)).data))\n",
    "print(' '.join('%5s' % classes[labels[j]] for j in range(4)))"
   ]
  },
  {
   "cell_type": "code",
   "execution_count": 13,
   "metadata": {},
   "outputs": [
    {
     "data": {
      "image/png": "[encoded data removed]",
      "text/plain": [
       "<matplotlib.figure.Figure at 0x7f6f38ad0978>"
      ]
     },
     "metadata": {},
     "output_type": "display_data"
    }
   ],
   "source": [
    "imshow(torchvision.utils.make_grid(images))"
   ]
  },
  {
   "cell_type": "markdown",
   "metadata": {},
   "source": [
    "# Эксперимент №4:\n",
    "## Переход к новому признаковому пространству"
   ]
  },
  {
   "cell_type": "code",
   "execution_count": 12,
   "metadata": {
    "collapsed": true
   },
   "outputs": [],
   "source": [
    "def encoder(x):\n",
    "    x = best_autoen.encoder_(Variable(x))\n",
    "    x, ind = best_autoen.pool(x)\n",
    " #   print(x.size())\n",
    "    return x.data"
   ]
  },
  {
   "cell_type": "code",
   "execution_count": 13,
   "metadata": {},
   "outputs": [
    {
     "name": "stdout",
     "output_type": "stream",
     "text": [
      "  dog   dog truck   car\n"
     ]
    },
    {
     "data": {
      "image/png": "[encoded data removed]",
      "text/plain": [
       "<matplotlib.figure.Figure at 0x1076fe590>"
      ]
     },
     "metadata": {},
     "output_type": "display_data"
    }
   ],
   "source": [
    "dataiter = iter(unlabledloader)\n",
    "images, labels = dataiter.next()\n",
    "\n",
    "imshow(torchvision.utils.make_grid(best_autoen(Variable(images)).data))\n",
    "print(' '.join('%5s' % classes[labels[j]] for j in range(4)))"
   ]
  },
  {
   "cell_type": "code",
   "execution_count": 14,
   "metadata": {},
   "outputs": [
    {
     "name": "stdout",
     "output_type": "stream",
     "text": [
      "  dog   dog truck   car\n"
     ]
    },
    {
     "data": {
      "image/png": "[encoded data removed]",
      "text/plain": [
       "<matplotlib.figure.Figure at 0x1076fe350>"
      ]
     },
     "metadata": {},
     "output_type": "display_data"
    }
   ],
   "source": [
    "imshow(torchvision.utils.make_grid(Variable(images).data))\n",
    "print(' '.join('%5s' % classes[labels[j]] for j in range(4)))"
   ]
  },
  {
   "cell_type": "code",
   "execution_count": 18,
   "metadata": {
    "collapsed": true
   },
   "outputs": [],
   "source": [
    "class Net_(nn.Module):\n",
    "    def __init__(self):\n",
    "        super(Net_, self).__init__()\n",
    "        self.fc1 = nn.Linear(20 * 11 * 11, 10)\n",
    "\n",
    "    def forward(self, x):\n",
    "        x = x.view(-1, 20 * 11 * 11)\n",
    "        x = self.fc1(x)\n",
    "        return x\n",
    "\n",
    "\n",
    "net = Net_()"
   ]
  },
  {
   "cell_type": "code",
   "execution_count": 19,
   "metadata": {
    "collapsed": true
   },
   "outputs": [],
   "source": [
    "criterion = nn.CrossEntropyLoss()\n",
    "\n",
    "optimizer = optim.SGD(net.parameters(), lr=0.001)"
   ]
  },
  {
   "cell_type": "code",
   "execution_count": 20,
   "metadata": {},
   "outputs": [
    {
     "name": "stdout",
     "output_type": "stream",
     "text": [
      "Finished Training\n"
     ]
    }
   ],
   "source": [
    "\n",
    "for epoch in range(40):  # loop over the dataset multiple times\n",
    "\n",
    "    running_loss = 0.0\n",
    "    for i, data in enumerate(trainloader, 0):\n",
    "        # get the inputs\n",
    "        inputs, labels = data\n",
    "\n",
    "        # wrap them in Variable\n",
    "        inputs, labels = Variable(encoder(inputs)), Variable(labels)\n",
    "\n",
    "        # zero the parameter gradients\n",
    "        optimizer.zero_grad()\n",
    "\n",
    "        # forward + backward + optimize\n",
    "        outputs = net(inputs)\n",
    "        loss = criterion(outputs, labels)\n",
    "        loss.backward()\n",
    "        optimizer.step()\n",
    "\n",
    "        # print statistics\n",
    "        running_loss += loss.data[0]\n",
    "        if i %  1000 == 999:    # print every 1000 mini-batches\n",
    "            #print('[%d, %5d] loss: %.3f' % (epoch + 1, i + 1, running_loss / 1000))\n",
    "            running_loss = 0.0\n",
    "\n",
    "print('Finished Training')"
   ]
  },
  {
   "cell_type": "code",
   "execution_count": 21,
   "metadata": {
    "collapsed": true
   },
   "outputs": [],
   "source": [
    "y_pred = []\n",
    "y_true = []"
   ]
  },
  {
   "cell_type": "code",
   "execution_count": 23,
   "metadata": {},
   "outputs": [
    {
     "name": "stdout",
     "output_type": "stream",
     "text": [
      "Accuracy of the network on test images: 55 %\n"
     ]
    }
   ],
   "source": [
    "correct = 0\n",
    "total = 0\n",
    "for data in testloader:\n",
    "    images, labels = data\n",
    "    outputs = net(Variable(encoder(images)))\n",
    "    _, predicted = torch.max(outputs.data, 1)\n",
    "    for i in outputs:\n",
    "        y_pred.append(i)\n",
    "    for i in labels:\n",
    "        y_true.append(i)\n",
    "    total += labels.size(0)\n",
    "    correct += (predicted == labels).sum()\n",
    "\n",
    "print('Accuracy of the network on test images: %d %%' % (100 * correct / total))"
   ]
  },
  {
   "cell_type": "code",
   "execution_count": 24,
   "metadata": {
    "collapsed": true
   },
   "outputs": [],
   "source": [
    "y_pred = np.array([x.data.numpy() for x in y_pred])"
   ]
  },
  {
   "cell_type": "code",
   "execution_count": 25,
   "metadata": {},
   "outputs": [
    {
     "name": "stdout",
     "output_type": "stream",
     "text": [
      "('Multinomial log loss:', 2.7815815759953111)\n"
     ]
    }
   ],
   "source": [
    "print(\"Multinomial log loss:\", log_loss(y_true, y_pred))"
   ]
  },
  {
   "cell_type": "code",
   "execution_count": 53,
   "metadata": {
    "collapsed": true
   },
   "outputs": [],
   "source": [
    "test_target = []\n",
    "\n",
    "for i, img in enumerate(iter(testset)):\n",
    "    test_target.append(img[1])"
   ]
  },
  {
   "cell_type": "code",
   "execution_count": 54,
   "metadata": {
    "collapsed": true
   },
   "outputs": [],
   "source": [
    "train_ = []\n",
    "target = []\n",
    "\n",
    "for i, data in enumerate(trainloader, 0):\n",
    "        inputs, labels = data\n",
    "\n",
    "        inputs = Variable(encoder(inputs))\n",
    "        \n",
    "        for inp in inputs:\n",
    "            train_.append(inp.data)\n",
    "        for inp in labels:\n",
    "            target.append(inp)\n",
    "\n",
    "train_ = [x.numpy() for x in train_]\n",
    "\n",
    "train_ = [x.ravel() for x in train_]"
   ]
  },
  {
   "cell_type": "code",
   "execution_count": 55,
   "metadata": {
    "collapsed": true
   },
   "outputs": [],
   "source": [
    "test_ = []\n",
    "\n",
    "for i, data in enumerate(testloader, 0):\n",
    "        inputs, labels = data\n",
    "\n",
    "        inputs = Variable(encoder(inputs))\n",
    "        \n",
    "        for inp in inputs:\n",
    "            test_.append(inp.data)\n",
    "test_ = [x.numpy() for x in test_]\n",
    "\n",
    "test_ = [x.ravel() for x in test_]"
   ]
  },
  {
   "cell_type": "code",
   "execution_count": 60,
   "metadata": {},
   "outputs": [
    {
     "data": {
      "text/plain": [
       "XGBClassifier(base_score=0.5, booster='gbtree', colsample_bylevel=1,\n",
       "       colsample_bytree=1, gamma=0, learning_rate=0.1, max_delta_step=0,\n",
       "       max_depth=8, min_child_weight=1, missing=None, n_estimators=200,\n",
       "       n_jobs=2, nthread=None, objective='multi:softprob', random_state=0,\n",
       "       reg_alpha=0, reg_lambda=1, scale_pos_weight=1, seed=None,\n",
       "       silent=True, subsample=1)"
      ]
     },
     "execution_count": 60,
     "metadata": {},
     "output_type": "execute_result"
    }
   ],
   "source": [
    "cl.fit(np.array(train_), target)"
   ]
  },
  {
   "cell_type": "code",
   "execution_count": 61,
   "metadata": {
    "collapsed": true
   },
   "outputs": [],
   "source": [
    "y_pred = cl.predict(np.array(test_))"
   ]
  },
  {
   "cell_type": "code",
   "execution_count": 62,
   "metadata": {},
   "outputs": [
    {
     "name": "stdout",
     "output_type": "stream",
     "text": [
      "accuracy =  0.479\n"
     ]
    }
   ],
   "source": [
    "print(\"accuracy = \", (np.array(test_target) == y_pred).sum() / len(test_target))"
   ]
  },
  {
   "cell_type": "code",
   "execution_count": 63,
   "metadata": {},
   "outputs": [
    {
     "name": "stdout",
     "output_type": "stream",
     "text": [
      "Accuracy of airplane : 66 %\n",
      "Accuracy of  bird : 30 %\n",
      "Accuracy of   car : 61 %\n",
      "Accuracy of   cat : 36 %\n",
      "Accuracy of  deer : 50 %\n",
      "Accuracy of   dog : 21 %\n",
      "Accuracy of horse : 53 %\n",
      "Accuracy of monkey : 41 %\n",
      "Accuracy of  ship : 68 %\n",
      "Accuracy of truck : 49 %\n"
     ]
    }
   ],
   "source": [
    "class_total = [(np.array(test_target) == i).sum() for i in range(10)]\n",
    "class_correct = [((np.array(test_target) == i) * (np.array(y_pred) == i) * 1).sum() for i in range(10)]\n",
    "\n",
    "for i in range(10):\n",
    "    print('Accuracy of %5s : %2d %%' % (\n",
    "        classes[i], 100 * class_correct[i] / class_total[i]))"
   ]
  },
  {
   "cell_type": "code",
   "execution_count": 64,
   "metadata": {
    "collapsed": true
   },
   "outputs": [],
   "source": [
    "probas = cl.predict_proba(test_)"
   ]
  },
  {
   "cell_type": "code",
   "execution_count": 65,
   "metadata": {},
   "outputs": [
    {
     "name": "stdout",
     "output_type": "stream",
     "text": [
      "xgboost log loss:  1.46529145672\n"
     ]
    }
   ],
   "source": [
    "from sklearn.metrics import log_loss\n",
    "\n",
    "print(\"xgboost log loss: \", log_loss(test_target, probas))"
   ]
  },
  {
   "cell_type": "markdown",
   "metadata": {},
   "source": [
    "# Эксперимент №5:\n",
    "## Модификация обучения нейросети"
   ]
  },
  {
   "cell_type": "code",
   "execution_count": 49,
   "metadata": {
    "collapsed": true
   },
   "outputs": [],
   "source": [
    "best_autoen = autoen_models[6][0]"
   ]
  },
  {
   "cell_type": "code",
   "execution_count": 11,
   "metadata": {},
   "outputs": [
    {
     "name": "stdout",
     "output_type": "stream",
     "text": [
      "Finished Training\n"
     ]
    }
   ],
   "source": [
    "best_autoen = autoencoder_experiment(conv_out_channels=(20, 20),\n",
    "conv_kernel_size=(8, 8),\n",
    "conv_padding=(4, 4),\n",
    "conv_stride=(1, 1),\n",
    "pool_kernel_size=(3, 3),\n",
    "pool_padding=(0, 0),\n",
    "pool_stride=(3, 3))[0]"
   ]
  },
  {
   "cell_type": "code",
   "execution_count": 26,
   "metadata": {
    "collapsed": true
   },
   "outputs": [],
   "source": [
    "class ModifiedConvNet(nn.Module):\n",
    "    def __init__(self):\n",
    "        super(ModifiedConvNet, self).__init__()\n",
    "        self.seq = nn.Sequential(\n",
    "            nn.Conv2d(3, 20, kernel_size=8, stride=1, padding=4),\n",
    "            nn.ReLU(),\n",
    "            nn.MaxPool2d(kernel_size=3, stride=3, padding=0), ##11\n",
    "            nn.Conv2d(20, 40, kernel_size=4, stride=1, padding=1),\n",
    "            nn.ReLU(),\n",
    "            nn.MaxPool2d(3, padding=0, stride=3))\n",
    "        self.fc1 = nn.Linear(40 * 3 * 3, 10)\n",
    "\n",
    "    def forward(self, x):\n",
    "        x = self.seq(x)\n",
    "        x = x.view(-1, 40 * 3 * 3)\n",
    "        x = self.fc1(x)\n",
    "        return x\n",
    "\n",
    "\n",
    "mod_conv_net = ModifiedConvNet()\n",
    "\n",
    "mod_conv_net.seq[0].weight = best_autoen.encoder_[0].weight"
   ]
  },
  {
   "cell_type": "code",
   "execution_count": 27,
   "metadata": {
    "collapsed": true
   },
   "outputs": [],
   "source": [
    "criterion = nn.CrossEntropyLoss()\n",
    "\n",
    "optimizer = optim.SGD(mod_conv_net.parameters(), lr=0.001, weight_decay=0.005, momentum=0.7)\n",
    "#optimizer = optim.Adam(mod_conv_net.parameters(), lr=0.001, weight_decay=1e-3)"
   ]
  },
  {
   "cell_type": "code",
   "execution_count": 28,
   "metadata": {},
   "outputs": [
    {
     "name": "stdout",
     "output_type": "stream",
     "text": [
      "[1,  1000] loss: 1.808\n",
      "('Accuracy of the network on test images:', 0.432625)\n",
      "[2,  1000] loss: 1.432\n",
      "('Accuracy of the network on test images:', 0.489)\n",
      "[3,  1000] loss: 1.292\n",
      "('Accuracy of the network on test images:', 0.484)\n",
      "[4,  1000] loss: 1.215\n",
      "('Accuracy of the network on test images:', 0.5185)\n",
      "[5,  1000] loss: 1.157\n",
      "('Accuracy of the network on test images:', 0.5345)\n",
      "[6,  1000] loss: 1.080\n",
      "('Accuracy of the network on test images:', 0.545875)\n",
      "[7,  1000] loss: 1.031\n",
      "('Accuracy of the network on test images:', 0.533625)\n",
      "[8,  1000] loss: 0.996\n",
      "('Accuracy of the network on test images:', 0.5605)\n",
      "[9,  1000] loss: 0.959\n",
      "('Accuracy of the network on test images:', 0.558125)\n",
      "[10,  1000] loss: 0.922\n",
      "('Accuracy of the network on test images:', 0.573375)\n",
      "[11,  1000] loss: 0.884\n",
      "('Accuracy of the network on test images:', 0.561875)\n",
      "[12,  1000] loss: 0.832\n",
      "('Accuracy of the network on test images:', 0.566)\n",
      "[13,  1000] loss: 0.816\n",
      "('Accuracy of the network on test images:', 0.561125)\n",
      "[14,  1000] loss: 0.798\n",
      "('Accuracy of the network on test images:', 0.575375)\n",
      "[15,  1000] loss: 0.764\n",
      "('Accuracy of the network on test images:', 0.569875)\n",
      "[16,  1000] loss: 0.726\n",
      "('Accuracy of the network on test images:', 0.55375)\n",
      "[17,  1000] loss: 0.708\n",
      "('Accuracy of the network on test images:', 0.571125)\n",
      "[18,  1000] loss: 0.677\n",
      "('Accuracy of the network on test images:', 0.576625)\n",
      "[19,  1000] loss: 0.664\n",
      "('Accuracy of the network on test images:', 0.574125)\n",
      "[20,  1000] loss: 0.636\n",
      "('Accuracy of the network on test images:', 0.56025)\n",
      "[21,  1000] loss: 0.609\n",
      "('Accuracy of the network on test images:', 0.562375)\n",
      "[22,  1000] loss: 0.582\n",
      "('Accuracy of the network on test images:', 0.5555)\n",
      "[23,  1000] loss: 0.567\n",
      "('Accuracy of the network on test images:', 0.572625)\n",
      "[24,  1000] loss: 0.544\n",
      "('Accuracy of the network on test images:', 0.538625)\n",
      "[25,  1000] loss: 0.531\n",
      "('Accuracy of the network on test images:', 0.57125)\n",
      "[26,  1000] loss: 0.497\n",
      "('Accuracy of the network on test images:', 0.56675)\n",
      "[27,  1000] loss: 0.488\n",
      "('Accuracy of the network on test images:', 0.563875)\n",
      "[28,  1000] loss: 0.468\n",
      "('Accuracy of the network on test images:', 0.564625)\n",
      "[29,  1000] loss: 0.452\n",
      "('Accuracy of the network on test images:', 0.558875)\n",
      "[30,  1000] loss: 0.434\n",
      "('Accuracy of the network on test images:', 0.556875)\n",
      "Finished Training\n"
     ]
    }
   ],
   "source": [
    "for epoch in range(30):# loop over the dataset multiple times\n",
    "\n",
    "    running_loss = 0.0\n",
    "    for i, data in enumerate(trainloader, 0):\n",
    "        # get the inputs\n",
    "        inputs, labels = data\n",
    "\n",
    "        # wrap them in Variable\n",
    "        inputs, labels = Variable(inputs), Variable(labels)\n",
    "\n",
    "        # zero the parameter gradients\n",
    "        optimizer.zero_grad()\n",
    "\n",
    "        # forward + backward + optimize\n",
    "        outputs = mod_conv_net(inputs)\n",
    "        loss = criterion(outputs, labels)\n",
    "        loss.backward()\n",
    "        optimizer.step()\n",
    "\n",
    "        # print statistics\n",
    "        \n",
    "        running_loss += loss.data[0]\n",
    "        if i %  1000 == 999:    # print every 1000 mini-batches\n",
    "            print('[%d, %5d] loss: %.3f' % (epoch + 1, i + 1, running_loss / 1000))\n",
    "            correct = 0.0\n",
    "            total = 0.0\n",
    "            for data in testloader:\n",
    "                images, labels = data\n",
    "                outputs = mod_conv_net(Variable(images))\n",
    "                _, predicted = torch.max(outputs.data, 1)\n",
    "                total += labels.size(0)\n",
    "                correct += (predicted == labels).sum()\n",
    "\n",
    "            print('Accuracy of the network on test images:', (correct / total))\n",
    "            running_loss = 0.0\n",
    "\n",
    "print('Finished Training')\n",
    "\n"
   ]
  },
  {
   "cell_type": "code",
   "execution_count": null,
   "metadata": {
    "collapsed": true
   },
   "outputs": [],
   "source": []
  }
 ],
 "metadata": {
  "kernelspec": {
   "display_name": "Python 3",
   "language": "python",
   "name": "python3"
  },
  "language_info": {
   "codemirror_mode": {
    "name": "ipython",
    "version": 3
   },
   "file_extension": ".py",
   "mimetype": "text/x-python",
   "name": "python",
   "nbconvert_exporter": "python",
   "pygments_lexer": "ipython3",
   "version": "3.6.3"
  }
 },
 "nbformat": 4,
 "nbformat_minor": 2
}
